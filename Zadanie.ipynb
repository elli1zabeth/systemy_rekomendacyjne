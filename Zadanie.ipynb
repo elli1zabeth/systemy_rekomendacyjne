{
  "nbformat": 4,
  "nbformat_minor": 0,
  "metadata": {
    "colab": {
      "provenance": [],
      "authorship_tag": "ABX9TyPicgAuby6N2DBOgtz0iTcr"
    },
    "kernelspec": {
      "name": "python3",
      "display_name": "Python 3"
    },
    "language_info": {
      "name": "python"
    }
  },
  "cells": [
    {
      "cell_type": "code",
      "execution_count": 1,
      "metadata": {
        "id": "f4CRWK8Zvtqe"
      },
      "outputs": [],
      "source": [
        "import pandas as pd\n",
        "\n",
        "movies = pd.read_csv('movies.csv', sep=',')\n",
        "ratings = pd.read_csv('ratings.csv', sep=',')"
      ]
    },
    {
      "cell_type": "markdown",
      "source": [
        "### Rekomendacje dla użytkownika o id=600, top 10"
      ],
      "metadata": {
        "id": "ZNQX_00ZwtXc"
      }
    },
    {
      "cell_type": "code",
      "source": [
        "from collections import Counter\n",
        "\n",
        "# Pobranie ocen użytkownika 600\n",
        "user_id = 600\n",
        "user_ratings = ratings[ratings['userId'] == user_id]"
      ],
      "metadata": {
        "id": "Q8iv2rwE1TjI"
      },
      "execution_count": 6,
      "outputs": []
    },
    {
      "cell_type": "code",
      "source": [
        "# Połączenie ocen z informacjami o filmach\n",
        "user_movies = user_ratings.merge(movies, on='movieId')\n",
        "\n",
        "# Wyodrębnienie najczęściej ocenianych gatunków przez użytkownika\n",
        "all_genres = user_movies['genres'].str.split('|').sum()\n",
        "top_genres = [genre for genre, _ in Counter(all_genres).most_common(5)]\n",
        "top_genres_set = set(top_genres)"
      ],
      "metadata": {
        "id": "kjv6ekH01WfL"
      },
      "execution_count": 7,
      "outputs": []
    },
    {
      "cell_type": "code",
      "source": [
        "# Filtrowanie filmów, które pasują do ulubionych gatunków\n",
        "def has_common_genre(genre_str):\n",
        "    return not top_genres_set.isdisjoint(set(genre_str.split('|')))\n",
        "\n",
        "genre_matched_movies = movies[movies['genres'].apply(has_common_genre)]"
      ],
      "metadata": {
        "id": "P8Fdsh5R1gzB"
      },
      "execution_count": 8,
      "outputs": []
    },
    {
      "cell_type": "code",
      "source": [
        "# Usunięcie filmów już ocenionych przez użytkownika\n",
        "unseen_movies = genre_matched_movies[~genre_matched_movies['movieId'].isin(user_ratings['movieId'])]\n",
        "\n",
        "# Dołączenie ocen i obliczenie średniej + liczby ocen\n",
        "ratings_for_unseen = ratings[ratings['movieId'].isin(unseen_movies['movieId'])]\n",
        "aggregated = ratings_for_unseen.groupby('movieId').agg(\n",
        "    średnia_ocen=('rating', 'mean'),\n",
        "    rating_count=('rating', 'count')\n",
        ").reset_index()\n",
        "\n",
        "# Tylko popularne filmy (min. 50 ocen)\n",
        "popular = aggregated[aggregated['rating_count'] >= 50]\n",
        "\n",
        "recommendations = popular.merge(movies, on='movieId')"
      ],
      "metadata": {
        "id": "MPYti8eH1laT"
      },
      "execution_count": 9,
      "outputs": []
    },
    {
      "cell_type": "code",
      "source": [
        "# Sortowanie i wybór TOP 10\n",
        "top_10 = recommendations.sort_values(by='średnia_ocen', ascending=False).head(10).reset_index(drop=True)\n",
        "top_10.insert(0, 'Top 10', range(1, 11))\n",
        "top_10_final = top_10[['Top 10', 'movieId', 'title', 'genres', 'średnia_ocen']]\n",
        "\n",
        "print(f'Top 10 rekomendacji dla użytkownika o ID = {user_id}:\\n')\n",
        "print(top_10_final.to_string(index=False))"
      ],
      "metadata": {
        "colab": {
          "base_uri": "https://localhost:8080/"
        },
        "id": "bjon29eUzgo9",
        "outputId": "fdc7882c-5813-4e36-db07-5018c83ab635"
      },
      "execution_count": 10,
      "outputs": [
        {
          "output_type": "stream",
          "name": "stdout",
          "text": [
            "Top 10 rekomendacji dla użytkownika o ID = 600:\n",
            "\n",
            " Top 10  movieId                                  title                           genres  średnia_ocen\n",
            "      1     1276                  Cool Hand Luke (1967)                            Drama      4.271930\n",
            "      2      904                     Rear Window (1954)                 Mystery|Thriller      4.261905\n",
            "      3     1221         Godfather: Part II, The (1974)                      Crime|Drama      4.259690\n",
            "      4    48516                   Departed, The (2006)             Crime|Drama|Thriller      4.252336\n",
            "      5       50             Usual Suspects, The (1995)           Crime|Mystery|Thriller      4.237745\n",
            "      6     1208                  Apocalypse Now (1979)                 Action|Drama|War      4.219626\n",
            "      7     1252                       Chinatown (1974) Crime|Film-Noir|Mystery|Thriller      4.211864\n",
            "      8     1193 One Flew Over the Cuckoo's Nest (1975)                            Drama      4.203008\n",
            "      9     1089                  Reservoir Dogs (1992)           Crime|Mystery|Thriller      4.202290\n",
            "     10     1225                         Amadeus (1984)                            Drama      4.184211\n"
          ]
        }
      ]
    },
    {
      "cell_type": "markdown",
      "source": [
        "###Znajdz 10 rekomendacji po obejrzaniu filmu: \"Toy Story\""
      ],
      "metadata": {
        "id": "kaIoJSX_yuRR"
      }
    },
    {
      "cell_type": "code",
      "source": [
        "# Zdefiniowanie docelowych gatunków\n",
        "target_genres = {'Animation', 'Children'}\n",
        "\n",
        "# Filtrowanie filmów zawierających przynajmniej jeden z docelowych gatunków\n",
        "def has_target_genres(genre_string):\n",
        "    genres = set(genre_string.split('|'))\n",
        "    return not target_genres.isdisjoint(genres)\n",
        "\n",
        "filtered_movies = movies[movies['genres'].apply(has_target_genres)]"
      ],
      "metadata": {
        "id": "viXYmKRIyZiu"
      },
      "execution_count": 3,
      "outputs": []
    },
    {
      "cell_type": "code",
      "source": [
        "genre_ratings = ratings.merge(filtered_movies, on='movieId')\n",
        "\n",
        "avg_ratings = genre_ratings.groupby('movieId').agg(\n",
        "    średnia_ocen=('rating', 'mean')\n",
        ").reset_index()\n",
        "\n",
        "# Dołączenie tytułów i gatunków\n",
        "movie_info = filtered_movies[['movieId', 'title', 'genres']].drop_duplicates()\n",
        "merged = avg_ratings.merge(movie_info, on='movieId')"
      ],
      "metadata": {
        "id": "0ImwH6jizDVL"
      },
      "execution_count": 4,
      "outputs": []
    },
    {
      "cell_type": "code",
      "source": [
        "# Filtrowanie filmów z co najmniej 50 ocenami\n",
        "rating_counts = genre_ratings.groupby('movieId').size().reset_index(name='rating_count')\n",
        "merged = merged.merge(rating_counts, on='movieId')\n",
        "popular = merged[merged['rating_count'] >= 50]\n",
        "\n",
        "top_10 = popular.sort_values(by='średnia_ocen', ascending=False).head(10).reset_index(drop=True)\n",
        "\n",
        "top_10.insert(0, 'Top 10', range(1, 11))\n",
        "\n",
        "top_10_final = top_10[['Top 10', 'movieId', 'title', 'genres', 'średnia_ocen']]\n",
        "\n",
        "print('Top 10 rekomendacji po obejrzeniu \"Toy Story\":\\n')\n",
        "print(top_10_final.to_string(index=False))"
      ],
      "metadata": {
        "colab": {
          "base_uri": "https://localhost:8080/"
        },
        "id": "qjKyJGKFzLid",
        "outputId": "b994f519-12e0-420c-9aa9-6ea16e3a9561"
      },
      "execution_count": 5,
      "outputs": [
        {
          "output_type": "stream",
          "name": "stdout",
          "text": [
            "Top 10 rekomendacji po obejrzeniu \"Toy Story\":\n",
            "\n",
            " Top 10  movieId                                                title                                           genres  średnia_ocen\n",
            "      1     5618 Spirited Away (Sen to Chihiro no kamikakushi) (2001)                      Adventure|Animation|Fantasy      4.155172\n",
            "      2    78499                                   Toy Story 3 (2010) Adventure|Animation|Children|Comedy|Fantasy|IMAX      4.109091\n",
            "      3    60069                                        WALL·E (2008)      Adventure|Animation|Children|Romance|Sci-Fi      4.057692\n",
            "      4     1148          Wallace & Gromit: The Wrong Trousers (1993)                  Animation|Children|Comedy|Crime      4.035714\n",
            "      5      953                         It's a Wonderful Life (1946)                   Children|Drama|Fantasy|Romance      4.034483\n",
            "      6    68954                                            Up (2009)               Adventure|Animation|Children|Drama      4.004762\n",
            "      7     2804                            Christmas Story, A (1983)                                  Children|Comedy      3.972727\n",
            "      8     6377                                  Finding Nemo (2003)              Adventure|Animation|Children|Comedy      3.960993\n",
            "      9    76093                      How to Train Your Dragon (2010)        Adventure|Animation|Children|Fantasy|IMAX      3.943396\n",
            "     10      364                                Lion King, The (1994)  Adventure|Animation|Children|Drama|Musical|IMAX      3.941860\n"
          ]
        }
      ]
    }
  ]
}